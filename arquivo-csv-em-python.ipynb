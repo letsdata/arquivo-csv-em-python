{
 "cells": [
  {
   "cell_type": "markdown",
   "id": "8d7dbb06",
   "metadata": {},
   "source": [
    "# <a>Live 12 - Arquivos CSV</a>\n",
    "\n",
    "COMMA SEPARAAATED VALUES. Arquivinhos com valores separados por vírgulas são onipresentes.\n",
    "\n",
    "Mas o que pode ser uma alegria rapidamente pode se transformar em horas de transtorno! Fear not, padawan, bora com o Let's Data ver como as coisas são solucionadas no mundo real. Claro que todo e toda DS se depararm com muitas maluquices, mas com algumas dicas facilita chegar do outro lado!"
   ]
  },
  {
   "cell_type": "code",
   "execution_count": null,
   "id": "d93c7d2d",
   "metadata": {},
   "outputs": [],
   "source": [
    "#!pip install pandas requests"
   ]
  },
  {
   "cell_type": "code",
   "execution_count": null,
   "id": "2d0949c4",
   "metadata": {},
   "outputs": [],
   "source": [
    "import csv\n",
    "import numpy as np\n",
    "import pandas as pd\n",
    "import requests"
   ]
  },
  {
   "cell_type": "markdown",
   "id": "d79ea855",
   "metadata": {},
   "source": [
    "## <a> Vamos do basicão? </a> \n",
    "\n",
    "Pandas, o que é isso, ainda não, padawan"
   ]
  },
  {
   "cell_type": "code",
   "execution_count": null,
   "id": "777e0e56",
   "metadata": {},
   "outputs": [],
   "source": [
    "# Base mais molezinha e onipresente: iris (classificação de orquídeas, tudo muito bucólico)\n",
    "\n",
    "# Abrindo arquivo em Python, modo leitura\n",
    "with open('./data/iris.csv', mode='r') as arquivo_csv:\n",
    "    # Passando o arquivo texto csv para o leitor csv padrão do Python\n",
    "    leitor_csv = csv.reader(arquivo_csv) \n",
    "    \n",
    "    # Iterando cada linha do python\n",
    "    for linha in leitor_csv:\n",
    "        print(linha)"
   ]
  },
  {
   "cell_type": "code",
   "execution_count": null,
   "id": "f271d78e",
   "metadata": {},
   "outputs": [],
   "source": [
    "# Além de iterar num for, posso também utilizar o next() \n",
    "\n",
    "cabecalho = None\n",
    "primeira_linha = None\n",
    "\n",
    "# Abrindo arquivo em Python, modo leitura\n",
    "with open('./data/iris.csv', mode='r') as arquivo_csv:\n",
    "    # Passando o arquivo texto csv para o leitor csv padrão do Python\n",
    "    leitor_csv = csv.reader(arquivo_csv) \n",
    "    \n",
    "    cabecalho = next(leitor_csv)\n",
    "    primeira_linha = next(leitor_csv)\n",
    "    \n",
    "cabecalho, primeira_linha"
   ]
  },
  {
   "cell_type": "markdown",
   "id": "7341f3b8",
   "metadata": {},
   "source": [
    "## <a> Mas a gente gosta mesmo é do Paaaandas!</a> \n",
    "\n",
    "A forma mais simples e rápida. read_csv faz milagres!"
   ]
  },
  {
   "cell_type": "code",
   "execution_count": null,
   "id": "cda58745",
   "metadata": {},
   "outputs": [],
   "source": [
    "pd.read_csv('./data/iris.csv')"
   ]
  },
  {
   "cell_type": "code",
   "execution_count": null,
   "id": "966a8203",
   "metadata": {},
   "outputs": [],
   "source": [
    "df_iris = pd.read_csv('./data/iris.csv')\n",
    "df_iris.head()"
   ]
  },
  {
   "cell_type": "code",
   "execution_count": null,
   "id": "be8e198f",
   "metadata": {},
   "outputs": [],
   "source": [
    "df_iris.columns"
   ]
  },
  {
   "cell_type": "markdown",
   "id": "4652185f",
   "metadata": {},
   "source": [
    "## <a> Até agora tá moleza! Não acabou? </a> \n",
    "\n",
    "Vamos tentar uma base real pra coisa começar a complicar"
   ]
  },
  {
   "cell_type": "code",
   "execution_count": null,
   "id": "d8539018",
   "metadata": {},
   "outputs": [],
   "source": [
    "url_csv_precos_medicamentos = 'https://dados.anvisa.gov.br/dados/TA_PRECO_MEDICAMENTO.csv'"
   ]
  },
  {
   "cell_type": "code",
   "execution_count": null,
   "id": "8afc2ce4",
   "metadata": {},
   "outputs": [],
   "source": [
    "df = pd.read_csv(url_csv_precos_medicamentos)"
   ]
  },
  {
   "cell_type": "markdown",
   "id": "28ebc933",
   "metadata": {},
   "source": [
    "_**E como sei a codificação?**_ Tem uma listinha aqui, mas raras vezes fogem dos padrões utf-8 e latin1\n",
    "\n",
    "A lista completa você encontra [aqui](https://docs.python.org/3/library/codecs.html#standard-encodings)"
   ]
  },
  {
   "cell_type": "code",
   "execution_count": null,
   "id": "19682e64",
   "metadata": {},
   "outputs": [],
   "source": [
    "df = pd.read_csv(url_csv_precos_medicamentos, encoding='latin1') # Também conhecido como iso-8859-1"
   ]
  },
  {
   "cell_type": "markdown",
   "id": "8148f823",
   "metadata": {},
   "source": [
    "_**Agora lascou de vez!!**_ Calma, padawan, será que não vale dar uma \"cheirada\" nos dados antes?"
   ]
  },
  {
   "cell_type": "code",
   "execution_count": null,
   "id": "69c38d30",
   "metadata": {},
   "outputs": [],
   "source": [
    "import urllib.request\n",
    "\n",
    "dados = urllib.request.urlopen(url_csv_precos_medicamentos)\n",
    "\n",
    "for linha in dados:\n",
    "    print(linha)\n",
    "    break"
   ]
  },
  {
   "cell_type": "code",
   "execution_count": null,
   "id": "94a7bff8",
   "metadata": {},
   "outputs": [],
   "source": [
    "# Agora vai!\n",
    "df = pd.read_csv(url_csv_precos_medicamentos, encoding='latin1', sep=';')\n",
    "df.shape"
   ]
  },
  {
   "cell_type": "code",
   "execution_count": null,
   "id": "76ce14e1",
   "metadata": {},
   "outputs": [],
   "source": [
    "df = pd.read_csv(url_csv_precos_medicamentos, encoding='latin1', sep=';', low_memory=False)\n",
    "df.shape"
   ]
  },
  {
   "cell_type": "code",
   "execution_count": null,
   "id": "3e04bdf4",
   "metadata": {},
   "outputs": [],
   "source": [
    "df.head()"
   ]
  },
  {
   "cell_type": "markdown",
   "id": "bdf53ef9",
   "metadata": {},
   "source": [
    "_**Tá safo!! Acabou a live?**_ Padawan, dá uma olhada nessas vírgulas aí? O tipo da coluna não está numérico. Vamos ver se é fato?"
   ]
  },
  {
   "cell_type": "code",
   "execution_count": null,
   "id": "e7454c00",
   "metadata": {},
   "outputs": [],
   "source": [
    "df.info()"
   ]
  },
  {
   "cell_type": "code",
   "execution_count": null,
   "id": "07ed35e6",
   "metadata": {},
   "outputs": [],
   "source": [
    "df = pd.read_csv(url_csv_precos_medicamentos, encoding='latin1', sep=';', low_memory=False, decimal=',')\n",
    "df.head()"
   ]
  },
  {
   "cell_type": "code",
   "execution_count": null,
   "id": "d52746cb",
   "metadata": {},
   "outputs": [],
   "source": [
    "df.info()"
   ]
  },
  {
   "cell_type": "markdown",
   "id": "832602e6",
   "metadata": {},
   "source": [
    "_**E se eu tivesse separador de milhar, tipo 30.000,27**_ Facinho, só usar o **thousands**"
   ]
  },
  {
   "cell_type": "code",
   "execution_count": null,
   "id": "bef30c14",
   "metadata": {},
   "outputs": [],
   "source": [
    "df = pd.read_csv(url_csv_precos_medicamentos, encoding='latin1', sep=';', low_memory=False, decimal=',', thousands='.')\n",
    "df.head()"
   ]
  },
  {
   "cell_type": "markdown",
   "id": "23594baa",
   "metadata": {},
   "source": [
    "## <a> E as datas??! Ah, as datas, fonte de muitos problemas! </a> \n",
    "\n"
   ]
  },
  {
   "cell_type": "code",
   "execution_count": null,
   "id": "e5876ded",
   "metadata": {},
   "outputs": [],
   "source": [
    "url_csv = 'https://raw.githubusercontent.com/mwaskom/seaborn-data/master/taxis.csv'"
   ]
  },
  {
   "cell_type": "code",
   "execution_count": null,
   "id": "8c07cfe2",
   "metadata": {},
   "outputs": [],
   "source": [
    "df_taxis = pd.read_csv(url_csv)\n",
    "df_taxis.head()"
   ]
  },
  {
   "cell_type": "code",
   "execution_count": null,
   "id": "02cdf034",
   "metadata": {},
   "outputs": [],
   "source": [
    "# Testar se o campo veio como data\n",
    "df_taxis['pickup'].dt.strftime('%Y/%m/%d')"
   ]
  },
  {
   "cell_type": "code",
   "execution_count": null,
   "id": "f781fc42",
   "metadata": {},
   "outputs": [],
   "source": [
    "# Pandas, faz o parse aí, cara!\n",
    "df_taxis = pd.read_csv(url_csv, parse_dates=True)\n",
    "df_taxis.head()"
   ]
  },
  {
   "cell_type": "code",
   "execution_count": null,
   "id": "90f6afe2",
   "metadata": {},
   "outputs": [],
   "source": [
    "df_taxis['pickup'].dt.strftime('%Y/%m/%d')"
   ]
  },
  {
   "cell_type": "code",
   "execution_count": null,
   "id": "29df8826",
   "metadata": {},
   "outputs": [],
   "source": [
    "# Tá bom, esqueci de falar quais as colunas!\n",
    "df_taxis = pd.read_csv(url_csv, parse_dates=['pickup', 'dropoff'])\n",
    "df_taxis.head()"
   ]
  },
  {
   "cell_type": "code",
   "execution_count": null,
   "id": "1442b23d",
   "metadata": {},
   "outputs": [],
   "source": [
    "df_taxis['pickup'].dt.strftime('%Y/%m/%d')"
   ]
  },
  {
   "cell_type": "markdown",
   "id": "635bedab",
   "metadata": {},
   "source": [
    "## <a> E arquivos muito grandes? O Pandas joga tudo pra memória, como resolver? </a> \n",
    "\n",
    "A gente pode ler só um pedacinho de cada vez! \\o/"
   ]
  },
  {
   "cell_type": "code",
   "execution_count": null,
   "id": "733bfd54",
   "metadata": {},
   "outputs": [],
   "source": [
    "df_iris_gigante = pd.read_csv('./data/iris_gigante.csv', chunksize=15)\n",
    "\n",
    "for mini_df in df_iris_gigante:\n",
    "    display(mini_df)\n",
    "    break\n",
    "\n"
   ]
  },
  {
   "cell_type": "markdown",
   "id": "1786614b",
   "metadata": {},
   "source": [
    "## <a> E arquivos zipados? Pandas é pandas... </a> \n"
   ]
  },
  {
   "cell_type": "code",
   "execution_count": null,
   "id": "f1cc769b",
   "metadata": {},
   "outputs": [],
   "source": [
    "# Sim, funciona direto \\o/\n",
    "pd.read_csv('./data/iris.zip')"
   ]
  },
  {
   "cell_type": "code",
   "execution_count": null,
   "id": "78e63aa8",
   "metadata": {},
   "outputs": [],
   "source": []
  }
 ],
 "metadata": {
  "kernelspec": {
   "display_name": "Python 3 (ipykernel)",
   "language": "python",
   "name": "python3"
  },
  "language_info": {
   "codemirror_mode": {
    "name": "ipython",
    "version": 3
   },
   "file_extension": ".py",
   "mimetype": "text/x-python",
   "name": "python",
   "nbconvert_exporter": "python",
   "pygments_lexer": "ipython3",
   "version": "3.7.8"
  }
 },
 "nbformat": 4,
 "nbformat_minor": 5
}
